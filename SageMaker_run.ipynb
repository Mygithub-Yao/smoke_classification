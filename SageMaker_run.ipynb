{
 "cells": [
  {
   "cell_type": "code",
   "execution_count": 1,
   "metadata": {},
   "outputs": [],
   "source": [
    "# coding=utf-8\n",
    "import tensorflow as tf\n",
    "import os\n",
    "from tensorflow.keras.preprocessing.image import ImageDataGenerator\n",
    "import models.vgg_16_optim_Sequential as vgg\n",
    "from tools import tfrec_pre as tfrec_loader\n",
    "import argparse\n"
   ]
  },
  {
   "cell_type": "code",
   "execution_count": 2,
   "metadata": {},
   "outputs": [],
   "source": [
    "def parse_args():\n",
    "    \n",
    "    parser = argparse.ArgumentParser()\n",
    "\n",
    "    # hyperparameters sent by the client are passed as command-line arguments to the script\n",
    "    parser.add_argument('--epochs', type=int, default=1)\n",
    "    parser.add_argument('--batch_size', type=int, default=32)\n",
    "    parser.add_argument('--learning_rate', type=float, default=0.001)\n",
    "    \n",
    "    # data directories\n",
    "    parser.add_argument('--train', type=str, default=r'./dataset/train')\n",
    "    parser.add_argument('--test', type=str, default=r'./dataset/train')\n",
    "   \n",
    "    #模型输出路径\n",
    "    parser.add_argument('--model_dir', type=str, default=r'./Output')\n",
    "    \n",
    "    return parser.parse_known_args()"
   ]
  },
  {
   "cell_type": "code",
   "execution_count": 3,
   "metadata": {},
   "outputs": [],
   "source": [
    "def one_hot_map(img,label):\n",
    "    one_hot_label=tf.one_hot(label,depth=3)\n",
    "    return img,one_hot_label"
   ]
  },
  {
   "cell_type": "code",
   "execution_count": 4,
   "metadata": {},
   "outputs": [],
   "source": [
    "def get_train_data(train_dir):  \n",
    "    dataset = tfrec_loader.tfrec_pre(train_dir,resize=[128,128]).load_tfrec_augdata('train_AUG.tfrecords').map(one_hot_map)\n",
    "    dataset = dataset.shuffle(buffer_size=1000)\n",
    "    return dataset.prefetch(tf.data.experimental.AUTOTUNE)"
   ]
  },
  {
   "cell_type": "code",
   "execution_count": 5,
   "metadata": {},
   "outputs": [],
   "source": [
    "def get_test_data(test_dir):\n",
    "    dataset = tfrec_loader.tfrec_pre(test_dir,resize=[128,128]).load_tfrec_png('val_AUG.tfrecords').map(one_hot_map)\n",
    "    return dataset.prefetch(tf.data.experimental.AUTOTUNE)"
   ]
  },
  {
   "cell_type": "code",
   "execution_count": 6,
   "metadata": {},
   "outputs": [],
   "source": [
    "#y_pred已经经过softmax函数，并且y_true进行one-hot编码的\n",
    "def focal_loss(y_true, y_pred,gamma=2.0, alpha=0.25):\n",
    "    eps = tf.keras.backend.epsilon()\n",
    "    y_pred = tf.clip_by_value(y_pred, eps, 1.0)\n",
    "    y_true = tf.cast(y_true, tf.float32)\n",
    "    loss = -y_true * tf.math.pow(1 - y_pred, gamma) * tf.math.log(y_pred)\n",
    "    loss = tf.reduce_sum(loss, axis=1)\n",
    "    return loss"
   ]
  },
  {
   "cell_type": "code",
   "execution_count": 7,
   "metadata": {},
   "outputs": [],
   "source": [
    "def train(args):\n",
    "    train_set=get_train_data(args.train).batch(args.batch_size)\n",
    "    val_set=get_test_data(args.test).batch(args.batch_size)\n",
    "    save_path = os.path.join(args.model_dir , 'model_vgg16_focal.h5')\n",
    "    try:\n",
    "        model = tf.keras.models.load_model(save_path)\n",
    "        #model = tf.keras.models.load_model(save_path,custom_objects={'focal_loss': focal_loss})\n",
    "    except Exception as e:\n",
    "        print('#######Exception', e)\n",
    "        model = vgg.vgg_16_optim_Sequential()\n",
    "        \n",
    "    #model = vgg.keras_sm_vgg(3)   \n",
    "    #model = vgg.vgg_11_Sequential()\n",
    "    #model = vgg.vgg_16_optim_Sequential()\n",
    "    exponential_decay = tf.keras.optimizers.schedules.ExponentialDecay(\n",
    "               initial_learning_rate=args.learning_rate, decay_steps=500, decay_rate=0.96)\n",
    "    \n",
    "    \n",
    "    # 设置指数衰减的学习率。\n",
    "    model.compile(\n",
    "        optimizer=tf.keras.optimizers.Adam(learning_rate=exponential_decay),\n",
    "        loss=focal_loss,\n",
    "        metrics=['accuracy']\n",
    "    )\n",
    "    model.fit(train_set, epochs=args.epochs,validation_data=val_set)\n",
    "    #保存为h5文件的模型\n",
    "    new_save_path = os.path.join(args.model_dir , 'model_vgg16_focal.h5')\n",
    "    #保存为标准的pd格式模型\n",
    "    #new_save_path = os.path.join(args.model_dir , 'model_vgg16_focal')\n",
    "    model.save(new_save_path)\n",
    "    \n",
    "    \n",
    "    #------------------------学习率衰减----------------------------------\n",
    "    #exponential_decay = tf.keras.optimizers.schedules.ExponentialDecay(\n",
    "    #           initial_learning_rate=args.learning_rate, decay_steps=1000, decay_rate=0.96)\n",
    "    \n",
    "    \n",
    "    #-------------------其他可选的搭配-------------------------------------\n",
    "    #tf.keras.optimizers.SGD(lr=0.01, decay=1e-6, momentum=0.9, nesterov=True)\n",
    "    #tf.keras.optimizers.Adam(learning_rate=exponential_decay)\n",
    "    #loss=tf.keras.losses.SparseCategoricalCrossentropy(from_logits=True)\n",
    "    #loss=tf.keras.losses.sparse_categorical_crossentropy,\n",
    "    #metrics=[tf.keras.metrics.sparse_categorical_accuracy]\n",
    "    #metrics=['accuracy']"
   ]
  },
  {
   "cell_type": "code",
   "execution_count": null,
   "metadata": {},
   "outputs": [],
   "source": [
    "if __name__ == '__main__':\n",
    "    args,_ = parse_args()\n",
    "    train(args)"
   ]
  }
 ],
 "metadata": {
  "kernelspec": {
   "display_name": "tensorflow",
   "language": "python",
   "name": "tensorflow"
  },
  "language_info": {
   "codemirror_mode": {
    "name": "ipython",
    "version": 3
   },
   "file_extension": ".py",
   "mimetype": "text/x-python",
   "name": "python",
   "nbconvert_exporter": "python",
   "pygments_lexer": "ipython3",
   "version": "3.6.12"
  }
 },
 "nbformat": 4,
 "nbformat_minor": 4
}
