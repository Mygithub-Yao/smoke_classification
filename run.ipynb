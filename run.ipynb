{
 "cells": [
  {
   "cell_type": "code",
   "execution_count": 1,
   "metadata": {},
   "outputs": [],
   "source": [
    "import tensorflow as tf\n",
    "import os\n",
    "import models.vgg_16_Sequential as vgg\n",
    "import tools.dataloader as tool\n",
    "from tools import imgloader as test_loader\n",
    "from tools import dataloader as train_loader"
   ]
  },
  {
   "cell_type": "code",
   "execution_count": 2,
   "metadata": {},
   "outputs": [],
   "source": [
    "#基础参数\n",
    "num_epochs = 5\n",
    "batch_size = 4\n",
    "\n",
    "#训练数据路径\n",
    "train_data_path = r'./data/train'\n",
    "\n",
    "#测试数据路径\n",
    "test_data_path = r'./data/train'\n",
    "\n",
    "#模型保存路径\n",
    "SAVE_PATH = r'./Output'"
   ]
  },
  {
   "cell_type": "code",
   "execution_count": 3,
   "metadata": {},
   "outputs": [],
   "source": [
    "# 设置指数衰减的学习率。\n",
    "exponential_decay = tf.keras.optimizers.schedules.ExponentialDecay(\n",
    "                    initial_learning_rate=0.005, decay_steps=1000, decay_rate=0.96)"
   ]
  },
  {
   "cell_type": "code",
   "execution_count": 4,
   "metadata": {},
   "outputs": [],
   "source": [
    "def predict():\n",
    "    #预测\n",
    "    model = tf.keras.models.load_model(os.path.join(SAVE_PATH , 'model'))\n",
    "    imgloader = test_loader.imgloader(test_data_path,batch_size=1)\n",
    "    test_dataset = imgloader.load()\n",
    "    y_pred = model.predict(test_dataset)\n",
    "    print(y_pred)"
   ]
  },
  {
   "cell_type": "code",
   "execution_count": 5,
   "metadata": {},
   "outputs": [],
   "source": [
    "def train():\n",
    "    # 构建训练数据集\n",
    "    loader = train_loader.dataloader(train_data_path,batch_size=batch_size)\n",
    "    train_dataset = loader.load()\n",
    "    model = vgg.vgg_16_Sequential()\n",
    "    model.compile(\n",
    "        optimizer=tf.keras.optimizers.Adam(learning_rate=exponential_decay),\n",
    "        loss=tf.keras.losses.sparse_categorical_crossentropy,\n",
    "        metrics=[tf.keras.metrics.sparse_categorical_accuracy]\n",
    "    )\n",
    "    model.fit(train_dataset, epochs=num_epochs)\n",
    "    model.save(os.path.join(SAVE_PATH , 'model'))"
   ]
  },
  {
   "cell_type": "code",
   "execution_count": 6,
   "metadata": {},
   "outputs": [],
   "source": [
    "def pre_train():\n",
    "    # 加载模型进行训练\n",
    "    loader = train_loader.dataloader(train_data_path,batch_size=batch_size)\n",
    "    train_dataset = loader.load()\n",
    "    try:\n",
    "        model = tf.keras.models.load_model(os.path.join(SAVE_PATH , 'model'))\n",
    "    except Exception as e:\n",
    "        print('#######Exception', e)\n",
    "    model.compile(\n",
    "        optimizer=tf.keras.optimizers.Adam(learning_rate=exponential_decay),\n",
    "        loss=tf.keras.losses.sparse_categorical_crossentropy,\n",
    "        metrics=[tf.keras.metrics.sparse_categorical_accuracy]\n",
    "    )\n",
    "    model.fit(train_dataset, epochs=num_epochs)\n",
    "    model.save(os.path.join(SAVE_PATH , 'model'))"
   ]
  },
  {
   "cell_type": "code",
   "execution_count": null,
   "metadata": {},
   "outputs": [],
   "source": [
    "if __name__ == '__main__':\n",
    "    #train()\n",
    "    pre_train()\n",
    "    predict()"
   ]
  }
 ],
 "metadata": {
  "kernelspec": {
   "display_name": "tensorflow",
   "language": "python",
   "name": "tensorflow"
  },
  "language_info": {
   "codemirror_mode": {
    "name": "ipython",
    "version": 3
   },
   "file_extension": ".py",
   "mimetype": "text/x-python",
   "name": "python",
   "nbconvert_exporter": "python",
   "pygments_lexer": "ipython3",
   "version": "3.6.12"
  }
 },
 "nbformat": 4,
 "nbformat_minor": 4
}
