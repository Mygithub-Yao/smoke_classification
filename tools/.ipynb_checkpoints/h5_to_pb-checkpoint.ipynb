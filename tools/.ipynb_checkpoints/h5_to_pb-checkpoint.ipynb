{
 "cells": [
  {
   "cell_type": "code",
   "execution_count": 26,
   "metadata": {},
   "outputs": [],
   "source": [
    "import tensorflow as tf"
   ]
  },
  {
   "cell_type": "code",
   "execution_count": 27,
   "metadata": {},
   "outputs": [],
   "source": [
    "def h5_to_pb(model_path,save_path):\n",
    "    try:\n",
    "        model = tf.keras.models.load_model(model_path)\n",
    "    except Exception as e:\n",
    "        print('不存在模型，', e)\n",
    "    inputs = tf.keras.Input(shape=(128,128,3))\n",
    "    model._set_inputs(inputs)\n",
    "    model.save(save_path,save_format='tf')"
   ]
  },
  {
   "cell_type": "code",
   "execution_count": 28,
   "metadata": {},
   "outputs": [
    {
     "name": "stdout",
     "output_type": "stream",
     "text": [
      "WARNING:tensorflow:Sequential models without an `input_shape` passed to the first layer cannot reload their optimizer state. As a result, your model isstarting with a freshly initialized optimizer.\n",
      "INFO:tensorflow:Assets written to: F:\\DC_competition\\project2\\change_models\\model_vgg16_focal\\assets\n"
     ]
    }
   ],
   "source": [
    "if __name__ == '__main__':\n",
    "    model_path = r'F:\\DC_competition\\project2\\outmodel\\model_vgg16_focal.h5'\n",
    "    save_path = r'F:\\DC_competition\\project2\\change_models\\model_vgg16_focal'\n",
    "    h5_to_pb(model_path,save_path)"
   ]
  },
  {
   "cell_type": "code",
   "execution_count": null,
   "metadata": {},
   "outputs": [],
   "source": []
  }
 ],
 "metadata": {
  "kernelspec": {
   "display_name": "tensorflow",
   "language": "python",
   "name": "tensorflow"
  },
  "language_info": {
   "codemirror_mode": {
    "name": "ipython",
    "version": 3
   },
   "file_extension": ".py",
   "mimetype": "text/x-python",
   "name": "python",
   "nbconvert_exporter": "python",
   "pygments_lexer": "ipython3",
   "version": "3.6.12"
  }
 },
 "nbformat": 4,
 "nbformat_minor": 4
}
